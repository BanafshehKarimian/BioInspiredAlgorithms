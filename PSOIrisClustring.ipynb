{
 "cells": [
  {
   "cell_type": "code",
   "execution_count": 1,
   "metadata": {},
   "outputs": [],
   "source": [
    "import numpy as np\n",
    "import random\n",
    "from sklearn import datasets"
   ]
  },
  {
   "cell_type": "code",
   "execution_count": 107,
   "metadata": {},
   "outputs": [],
   "source": [
    "class Particle:\n",
    "    def __init__(self, bounds, x_init_type, v_init_type, Nc, x, data, c):\n",
    "        self.local_best_j = 10000\n",
    "        self.neigh_best_j = 10000\n",
    "        self.global_best_j = 10000\n",
    "        self.local_best = []\n",
    "        self.neigh_best = []\n",
    "        self.global_best = []\n",
    "        self.neigh = []\n",
    "        self.bounds = bounds\n",
    "        self.Nc = Nc\n",
    "        self.x, self.v = self.init_xv(x_init_type, v_init_type, x, data)\n",
    "        self.c = c\n",
    "        \n",
    "    def move(self):\n",
    "        self.r = [random.uniform(0,1),random.uniform(0,1),1]\n",
    "        if self.c[2]!=0:\n",
    "            self.v = self.c[0]*self.v + self.c[1]*self.r[0]*(self.local_best-self.x) + self.c[2]*self.r[1]*(self.neigh_best-self.x) +self.c[3]*self.r[2]*(self.global_best - self.x)\n",
    "        else:\n",
    "            self.v = self.c[0]*self.v + self.c[1]*self.r[0]*(self.local_best-self.x) + self.c[3]*self.r[2]*(self.global_best - self.x)\n",
    "        self.x = self.x + self.v\n",
    "        \n",
    "    def init_xv(self,x_init_type, v_init_type, x_kmeans,data):     \n",
    "        x = []\n",
    "        v = []\n",
    "        for j in range(self.Nc):\n",
    "            temp = []\n",
    "            for b in self.bounds:\n",
    "                temp.append(random.uniform(b[0],b[1]))\n",
    "            x.append(np.array(temp))\n",
    "            #x.append(data[np.random.choice([i for i in range(len(data))])])\n",
    "        if x_init_type != \"random\":\n",
    "            x = np.copy(x_kmeans)\n",
    "        if v_init_type == \"random\":\n",
    "            for j in range(self.Nc):\n",
    "                temp = []\n",
    "                for b in self.bounds:\n",
    "                    temp.append(random.uniform((b[0]-b[1])/2,(b[1]-b[0])/2))\n",
    "                v.append(np.array(temp))\n",
    "        else:\n",
    "            v = np.zeros((self.Nc,len(self.bounds)))\n",
    "        return np.array(x),np.array(v)"
   ]
  },
  {
   "cell_type": "code",
   "execution_count": 237,
   "metadata": {},
   "outputs": [],
   "source": [
    "class PSO:\n",
    "    def __init__(self,data_x, data_y, particle_count, bound, c, tribe_count, x_init = \"random\", v_init = \"random\"):\n",
    "        self.data_x, self.data_y = data_x, data_y\n",
    "        index = [i for i in range(particle_count)]\n",
    "        k_means = self.kmeans(bound, 1000)\n",
    "        self.particles = [Particle(bound,x_init , v_init ,3,k_means,self.data_x, c) for i in range(particle_count)]\n",
    "        self.bound = bound\n",
    "        mem   =  int(particle_count/tribe_count)\n",
    "        self.tribe_creator(tribe_count,particle_count,mem)\n",
    "        self.type_x = x_init\n",
    "\n",
    "\n",
    "    \n",
    "    def tribe_creator(self,tribe_count,particle_count,mem):\n",
    "        for i in range(tribe_count):\n",
    "            self.particles[i*mem].neigh = [i*mem+j for j in range(mem)]\n",
    "            for k in range(mem-1):\n",
    "                self.particles[i*mem+k+1].neigh = [i*mem+j for j in range(mem)]\n",
    "                last = i*mem+k\n",
    "        for i in range(tribe_count-1):\n",
    "            self.particles[i*mem].neigh.append(i*mem+mem)\n",
    "        n = [i+last for i in range(particle_count-last)]\n",
    "        while last<particle_count:\n",
    "            self.particles[last].neigh = np.copy(n)\n",
    "            last = last+1\n",
    "        for p in self.particles:\n",
    "            p.neigh = np.array(p.neigh)\n",
    "        \n",
    "    def distance(self,z,m):\n",
    "        return np.sqrt(np.sum((z-m)*(z-m))) \n",
    "    \n",
    "    \n",
    "    \n",
    "    def J(self, m, pred):\n",
    "        j = 0\n",
    "        classes = [[],[],[]]\n",
    "        for p in range(len(pred)):\n",
    "            classes[pred[p]].append(self.data_x[p])\n",
    "        for c in range(len(m)):\n",
    "            count = 0\n",
    "            for z in classes[c]:\n",
    "                count = count + self.distance(z,m[c])\n",
    "            if len(classes[c])!=0:\n",
    "                j = j + count/len(classes[c])\n",
    "        return j/len(m)\n",
    "    \n",
    "    def accuracy(self,global_best):\n",
    "        '''find which centers is for which class'''\n",
    "        if self.type_x != \"random\":\n",
    "            classes = []\n",
    "            for x in self.data_x:\n",
    "                classes.append(np.argmin([self.distance(x,c) for c in global_best]))\n",
    "            return np.sum([int(y==yp) for (y,yp) in zip(self.data_y,classes)])/len(classes)\n",
    "        ind = []\n",
    "        for c in global_best:\n",
    "            dist = []\n",
    "            for i in range(3):\n",
    "                dist.append(np.sum([self.distance(c,x) for x in np.array(self.data_x)[self.data_y==i]]))\n",
    "            ind.append(np.argmin(dist))\n",
    "        out = []\n",
    "        for i in ind:\n",
    "            out.append(global_best[i])\n",
    "        '''calculate accuracy'''\n",
    "        classes = []\n",
    "        for x in self.data_x:\n",
    "            classes.append(np.argmin([self.distance(x,c) for c in out]))\n",
    "        return np.sum([int(y==yp) for (y,yp) in zip(self.data_y,classes)])/len(classes)\n",
    "    \n",
    "    \n",
    "    \n",
    "    \n",
    "    def main(self,tmax, fixed_var = True, linear = True):\n",
    "        '''calculate j'''\n",
    "        for p in self.particles:\n",
    "            classes = []\n",
    "            for x in self.data_x:\n",
    "                classes.append(np.argmin([self.distance(x,c) for c in p.x]))\n",
    "            j = self.J(p.x,classes)\n",
    "            p.local_best_j = j\n",
    "            p.local_best = np.copy(p.x)\n",
    "        '''update global best'''\n",
    "        global_best_j = np.min([p.local_best_j for p in self.particles])\n",
    "        global_best = self.particles[np.argmin([p.local_best_j for p in self.particles])].local_best\n",
    "        for p in self.particles:\n",
    "            p.global_best_j = global_best_j\n",
    "            p.global_best = global_best\n",
    "        history = []\n",
    "        for t in range(tmax):\n",
    "            temphist = [global_best_j]\n",
    "            for p in self.particles:\n",
    "                '''calculate j'''\n",
    "                classes = []\n",
    "                for x in self.data_x:\n",
    "                    classes.append(np.argmin([self.distance(x,c) for c in p.x]))\n",
    "                j = self.J(p.x,classes)\n",
    "                \n",
    "                \n",
    "                '''update best values'''\n",
    "                \n",
    "                if j<global_best_j:\n",
    "                    global_best_j = j\n",
    "                    global_best = np.copy(p.x)\n",
    "                    for p in self.particles:\n",
    "                        p.global_best_j = global_best_j\n",
    "                        p.global_best = global_best\n",
    "                \n",
    "                \n",
    "                \n",
    "                if j < p.local_best_j:\n",
    "                    p.local_best_j = j\n",
    "                    p.local_best = np.copy(p.x)\n",
    "                    \n",
    "                \n",
    "                '''if neighbours best is used particle position update o.w. save time'''\n",
    "                if p.c[2]!=0 :    \n",
    "                    n = np.argmin([self.particles[n].local_best_j for n in p.neigh])\n",
    "                    if j < p.neigh_best_j:\n",
    "                        if self.particles[n].local_best_j < j:\n",
    "                            p.neigh_best_j = self.particles[n].local_best_j\n",
    "                            p.neigh_best = self.particles[n].local_best\n",
    "                        else:\n",
    "                            p.neigh_best_j = j\n",
    "                            p.neigh_best = np.copy(p.x)\n",
    "                    for n in p.neigh:\n",
    "                        self.particles[n].neigh_best_j = p.neigh_best_j\n",
    "                        self.particles[n].neigh_best = np.copy(p.neigh_best)\n",
    "                \n",
    "                '''update inertia weight'''\n",
    "                if not fixed_var:\n",
    "                    if not linear:\n",
    "                        p.c[0] = p.c[0] * tmax / (tmax-t)\n",
    "                        #c[0] = c[0]* np.exp(t) / np.exp(tmax)\n",
    "                    if linear:\n",
    "                        p.c[0] = 2 * p.c[0]* t / tmax\n",
    "                        #c[0] = c[0] * (1-t/tmax)\n",
    "                \n",
    "                '''move particle'''\n",
    "                p.move()\n",
    "                '''for x in p.x:\n",
    "                    for j in range(len(x)):\n",
    "                        if x[j] > self.bound[j][1]:\n",
    "                            x[j]=self.bound[j][1]\n",
    "                        if x[j] < self.bound[j][0]:\n",
    "                            x[j]=self.bound[j][0]'''\n",
    "                temphist.append(global_best_j)\n",
    "            '''update global best history'''\n",
    "            history.append(np.mean(temphist)) \n",
    "        print(\"ACC:\")\n",
    "        print(self.accuracy(global_best))\n",
    "        return history, self.accuracy(global_best)\n",
    "            \n",
    "    def kmeans(self, bounds, it):\n",
    "        from sklearn.cluster import KMeans\n",
    "        kmeans = KMeans(n_clusters=3).fit(self.data_x,self.data_y)\n",
    "        ind = []\n",
    "        for c in kmeans.cluster_centers_:\n",
    "            dist = [self.distance(c,x) for x in self.data_x]\n",
    "            values, counts = np.unique(np.array(self.data_y)[np.argsort(np.array(dist))[:10]], return_counts=True)\n",
    "            ind.append(values[np.argmax(counts)])\n",
    "        out = []\n",
    "        for i in ind:\n",
    "            out.append(kmeans.cluster_centers_[i])\n",
    "        return np.array(out)"
   ]
  },
  {
   "cell_type": "code",
   "execution_count": 200,
   "metadata": {},
   "outputs": [
    {
     "data": {
      "text/plain": [
       "4"
      ]
     },
     "execution_count": 200,
     "metadata": {},
     "output_type": "execute_result"
    }
   ],
   "source": [
    "np.sum(np.array([[1,2],[1,3]])==np.array([[1,2],[1,3]]))"
   ]
  },
  {
   "cell_type": "code",
   "execution_count": 4,
   "metadata": {},
   "outputs": [],
   "source": [
    "iris              = datasets.load_iris()\n",
    "class_names       = iris.target_names  \n",
    "y = iris.target\n",
    "x = iris.data\n",
    "_, C = np.unique(y, return_counts=True) \n",
    "bound = [[np.min(x[:,i]),np.max(x[:,i])] for i in range(len(x[0]))]"
   ]
  },
  {
   "cell_type": "markdown",
   "metadata": {},
   "source": [
    "Random Vs Kmeans / Random Vs Zero"
   ]
  },
  {
   "cell_type": "code",
   "execution_count": 189,
   "metadata": {},
   "outputs": [
    {
     "name": "stdout",
     "output_type": "stream",
     "text": [
      "ACC:\n",
      "0.3333333333333333\n",
      "ACC:\n",
      "0.3333333333333333\n",
      "ACC:\n",
      "0.6466666666666666\n",
      "ACC:\n",
      "0.3333333333333333\n",
      "ACC:\n",
      "0.4866666666666667\n",
      "ACC:\n",
      "0.3333333333333333\n",
      "ACC:\n",
      "0.66\n",
      "ACC:\n",
      "0.6666666666666666\n",
      "ACC:\n",
      "0.3466666666666667\n",
      "ACC:\n",
      "0.3333333333333333\n"
     ]
    }
   ],
   "source": [
    "history = []\n",
    "acc = []\n",
    "for i in range(10):\n",
    "    pso = PSO(x,y,10,bound,[0.72,1.49,0,1.49],3,\"random\",\"random\")\n",
    "    h, a = pso.main(1000)\n",
    "    acc.append(a)\n",
    "    history.append(h)"
   ]
  },
  {
   "cell_type": "code",
   "execution_count": 190,
   "metadata": {},
   "outputs": [],
   "source": [
    "r_r_s , a = np.mean(history,axis = 0), np.mean(acc)"
   ]
  },
  {
   "cell_type": "code",
   "execution_count": 191,
   "metadata": {},
   "outputs": [
    {
     "data": {
      "text/plain": [
       "0.44733333333333325"
      ]
     },
     "execution_count": 191,
     "metadata": {},
     "output_type": "execute_result"
    }
   ],
   "source": [
    "a"
   ]
  },
  {
   "cell_type": "code",
   "execution_count": 192,
   "metadata": {},
   "outputs": [
    {
     "name": "stdout",
     "output_type": "stream",
     "text": [
      "ACC:\n",
      "0.3333333333333333\n",
      "ACC:\n",
      "0.3333333333333333\n",
      "ACC:\n",
      "0.6466666666666666\n",
      "ACC:\n",
      "0.3333333333333333\n",
      "ACC:\n",
      "0.66\n",
      "ACC:\n",
      "0.66\n",
      "ACC:\n",
      "0.3333333333333333\n",
      "ACC:\n",
      "0.6333333333333333\n",
      "ACC:\n",
      "0.22\n",
      "ACC:\n",
      "0.3333333333333333\n"
     ]
    }
   ],
   "source": [
    "history = []\n",
    "acc = []\n",
    "for i in range(10):\n",
    "    pso = PSO(x,y,10,bound,[0.72,1.49,0,1.49],3,\"random\",\"zero\")\n",
    "    h, a = pso.main(1000)\n",
    "    acc.append(a)\n",
    "    history.append(h)"
   ]
  },
  {
   "cell_type": "code",
   "execution_count": 193,
   "metadata": {},
   "outputs": [],
   "source": [
    "r_z_s , a = np.mean(history,axis = 0), np.mean(acc)"
   ]
  },
  {
   "cell_type": "code",
   "execution_count": 194,
   "metadata": {},
   "outputs": [
    {
     "data": {
      "text/plain": [
       "0.44866666666666666"
      ]
     },
     "execution_count": 194,
     "metadata": {},
     "output_type": "execute_result"
    }
   ],
   "source": [
    "a"
   ]
  },
  {
   "cell_type": "code",
   "execution_count": 216,
   "metadata": {},
   "outputs": [
    {
     "name": "stdout",
     "output_type": "stream",
     "text": [
      "ACC:\n",
      "0.8933333333333333\n"
     ]
    }
   ],
   "source": [
    "pso = PSO(x,y,10,bound,[0.72,1.49,0,1.49],3,\"kmeans\",\"random\")\n",
    "k_r_s , a = pso.main(1000)"
   ]
  },
  {
   "cell_type": "code",
   "execution_count": 217,
   "metadata": {},
   "outputs": [
    {
     "name": "stdout",
     "output_type": "stream",
     "text": [
      "ACC:\n",
      "0.8933333333333333\n"
     ]
    }
   ],
   "source": [
    "pso = PSO(x,y,10,bound,[0.72,1.49,0,1.49],3,\"kmeans\",\"zero\")\n",
    "k_z_s , a = pso.main(1000)"
   ]
  },
  {
   "cell_type": "code",
   "execution_count": 229,
   "metadata": {},
   "outputs": [
    {
     "data": {
      "image/png": "[encoded data removed]",
      "text/plain": [
       "<Figure size 432x288 with 1 Axes>"
      ]
     },
     "metadata": {
      "needs_background": "light"
     },
     "output_type": "display_data"
    }
   ],
   "source": [
    "import matplotlib.pyplot as plt\n",
    "plt.ylabel(\"j\")\n",
    "plt.xlabel(\"Trial\")\n",
    "plt.plot([i+1 for i in range(1000)], r_r_s, label = str(\"random\"))\n",
    "plt.plot([i+1 for i in range(1000)], r_z_s, label = str(\"zero\"))\n",
    "plt.legend()\n",
    "plt.show()"
   ]
  },
  {
   "cell_type": "markdown",
   "metadata": {},
   "source": [
    "Dynamic Vs Static"
   ]
  },
  {
   "cell_type": "code",
   "execution_count": 238,
   "metadata": {},
   "outputs": [
    {
     "name": "stdout",
     "output_type": "stream",
     "text": [
      "ACC:\n",
      "0.66\n",
      "ACC:\n",
      "0.64\n",
      "ACC:\n",
      "0.3333333333333333\n",
      "ACC:\n",
      "0.3333333333333333\n",
      "ACC:\n",
      "0.6066666666666667\n",
      "ACC:\n",
      "0.006666666666666667\n",
      "ACC:\n",
      "0.6666666666666666\n",
      "ACC:\n",
      "0.3333333333333333\n",
      "ACC:\n",
      "0.3333333333333333\n",
      "ACC:\n",
      "0.006666666666666667\n"
     ]
    }
   ],
   "source": [
    "history = []\n",
    "acc = []\n",
    "for i in range(10):\n",
    "    pso = PSO(x,y,10,bound,[0.72,1.49,0,1.49],3,\"random\",\"random\")\n",
    "    h, a = pso.main(1000,False)\n",
    "    acc.append(a)\n",
    "    history.append(h)"
   ]
  },
  {
   "cell_type": "code",
   "execution_count": 239,
   "metadata": {},
   "outputs": [],
   "source": [
    "r_r_d_linear , a = np.mean(history,axis = 0), np.mean(acc)"
   ]
  },
  {
   "cell_type": "code",
   "execution_count": 240,
   "metadata": {},
   "outputs": [
    {
     "data": {
      "text/plain": [
       "0.392"
      ]
     },
     "execution_count": 240,
     "metadata": {},
     "output_type": "execute_result"
    }
   ],
   "source": [
    "a"
   ]
  },
  {
   "cell_type": "code",
   "execution_count": null,
   "metadata": {},
   "outputs": [],
   "source": [
    "history = []\n",
    "acc = []\n",
    "for i in range(10):\n",
    "    pso = PSO(x,y,10,bound,[0.72,1.49,0,1.49],3,\"random\",\"random\")\n",
    "    h, a = pso.main(1000,False,False)\n",
    "    acc.append(a)\n",
    "    history.append(h)"
   ]
  },
  {
   "cell_type": "code",
   "execution_count": 223,
   "metadata": {},
   "outputs": [],
   "source": [
    "r_r_d_nonlinear , a = np.mean(history,axis = 0), np.mean(acc)"
   ]
  },
  {
   "cell_type": "code",
   "execution_count": 224,
   "metadata": {},
   "outputs": [
    {
     "data": {
      "text/plain": [
       "0.49466666666666664"
      ]
     },
     "execution_count": 224,
     "metadata": {},
     "output_type": "execute_result"
    }
   ],
   "source": [
    "a"
   ]
  },
  {
   "cell_type": "code",
   "execution_count": 241,
   "metadata": {},
   "outputs": [
    {
     "name": "stdout",
     "output_type": "stream",
     "text": [
      "ACC:\n",
      "0.6666666666666666\n",
      "ACC:\n",
      "0.66\n",
      "ACC:\n",
      "0.22666666666666666\n",
      "ACC:\n",
      "0.3333333333333333\n",
      "ACC:\n",
      "0.3333333333333333\n",
      "ACC:\n",
      "0.18666666666666668\n",
      "ACC:\n",
      "0.3333333333333333\n",
      "ACC:\n",
      "0.6666666666666666\n",
      "ACC:\n",
      "0.6666666666666666\n",
      "ACC:\n",
      "0.43333333333333335\n"
     ]
    }
   ],
   "source": [
    "history = []\n",
    "acc = []\n",
    "for i in range(10):\n",
    "    pso = PSO(x,y,10,bound,[0.72,1.49,0,1.49],3,\"random\",\"zero\")\n",
    "    h, a = pso.main(1000,False)\n",
    "    acc.append(a)\n",
    "    history.append(h)"
   ]
  },
  {
   "cell_type": "code",
   "execution_count": 242,
   "metadata": {},
   "outputs": [],
   "source": [
    "r_z_d_linear , a = np.mean(history,axis = 0), np.mean(acc)"
   ]
  },
  {
   "cell_type": "code",
   "execution_count": 243,
   "metadata": {},
   "outputs": [
    {
     "data": {
      "text/plain": [
       "0.45066666666666666"
      ]
     },
     "execution_count": 243,
     "metadata": {},
     "output_type": "execute_result"
    }
   ],
   "source": [
    "a"
   ]
  },
  {
   "cell_type": "code",
   "execution_count": null,
   "metadata": {
    "scrolled": true
   },
   "outputs": [],
   "source": [
    "history = []\n",
    "acc = []\n",
    "for i in range(10):\n",
    "    pso = PSO(x,y,10,bound,[0.72,1.49,0,1.49],3,\"random\",\"zero\")\n",
    "    h, a = pso.main(1000,False,False)\n",
    "    acc.append(a)\n",
    "    history.append(h)"
   ]
  },
  {
   "cell_type": "code",
   "execution_count": 245,
   "metadata": {},
   "outputs": [],
   "source": [
    "r_z_d_nonlinear , a = np.mean(history,axis = 0), np.mean(acc)"
   ]
  },
  {
   "cell_type": "code",
   "execution_count": 246,
   "metadata": {},
   "outputs": [
    {
     "data": {
      "text/plain": [
       "0.382"
      ]
     },
     "execution_count": 246,
     "metadata": {},
     "output_type": "execute_result"
    }
   ],
   "source": [
    "a"
   ]
  },
  {
   "cell_type": "code",
   "execution_count": 251,
   "metadata": {},
   "outputs": [
    {
     "data": {
      "image/png": "[encoded data removed]",
      "text/plain": [
       "<Figure size 432x288 with 1 Axes>"
      ]
     },
     "metadata": {
      "needs_background": "light"
     },
     "output_type": "display_data"
    }
   ],
   "source": [
    "import matplotlib.pyplot as plt\n",
    "plt.ylabel(\"j\")\n",
    "plt.xlabel(\"Trial\")\n",
    "plt.plot([i+1 for i in range(1000)], r_r_d_linear, label = str(\"random_linear\"))\n",
    "plt.plot([i+1 for i in range(1000)], r_z_d_linear, label = str(\"zero_linear\"))\n",
    "plt.plot([i+1 for i in range(1000)], r_r_d_nonlinear, label = str(\"random_nonlinear\"))\n",
    "plt.plot([i+1 for i in range(1000)], r_z_d_nonlinear, label = str(\"zero_nonlinear\"))\n",
    "plt.legend()\n",
    "plt.show()"
   ]
  },
  {
   "cell_type": "code",
   "execution_count": 249,
   "metadata": {},
   "outputs": [
    {
     "name": "stderr",
     "output_type": "stream",
     "text": [
      "C:\\Users\\banafshVBTS\\Anaconda3\\lib\\site-packages\\ipykernel_launcher.py:20: RuntimeWarning: invalid value encountered in multiply\n"
     ]
    },
    {
     "name": "stdout",
     "output_type": "stream",
     "text": [
      "ACC:\n",
      "0.8933333333333333\n"
     ]
    }
   ],
   "source": [
    "pso = PSO(x,y,10,bound,[0.72,1.49,0,1.49],3,\"kmeans\",\"zero\")\n",
    "k_z_s , a = pso.main(1000, False, False)"
   ]
  },
  {
   "cell_type": "code",
   "execution_count": 250,
   "metadata": {},
   "outputs": [
    {
     "name": "stdout",
     "output_type": "stream",
     "text": [
      "ACC:\n",
      "0.8933333333333333\n"
     ]
    }
   ],
   "source": [
    "pso = PSO(x,y,10,bound,[0.72,1.49,0,1.49],3,\"kmeans\",\"zero\")\n",
    "k_z_s , a = pso.main(1000, False)"
   ]
  }
 ],
 "metadata": {
  "kernelspec": {
   "display_name": "Python 3",
   "language": "python",
   "name": "python3"
  },
  "language_info": {
   "codemirror_mode": {
    "name": "ipython",
    "version": 3
   },
   "file_extension": ".py",
   "mimetype": "text/x-python",
   "name": "python",
   "nbconvert_exporter": "python",
   "pygments_lexer": "ipython3",
   "version": "3.7.1"
  }
 },
 "nbformat": 4,
 "nbformat_minor": 2
}
